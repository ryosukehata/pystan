{
 "cells": [
  {
   "cell_type": "code",
   "execution_count": 2,
   "metadata": {},
   "outputs": [],
   "source": [
    "import statsmodels.api as sm\n",
    "import pandas as pd\n",
    "import seaborn as sns\n",
    "import matplotlib.pyplot as plt\n",
    "from statsmodels.sandbox.regression.predstd import wls_prediction_std"
   ]
  },
  {
   "cell_type": "code",
   "execution_count": 3,
   "metadata": {},
   "outputs": [],
   "source": [
    "df = pd.read_csv(\"../../RStanBook/chap04/input/data-salary.txt\")"
   ]
  },
  {
   "cell_type": "code",
   "execution_count": 4,
   "metadata": {},
   "outputs": [
    {
     "data": {
      "text/plain": [
       "<matplotlib.axes._subplots.AxesSubplot at 0x1c1b469da0>"
      ]
     },
     "execution_count": 4,
     "metadata": {},
     "output_type": "execute_result"
    },
    {
     "data": {
      "image/png": "[encoded data removed]",
      "text/plain": [
       "<Figure size 432x288 with 1 Axes>"
      ]
     },
     "metadata": {
      "needs_background": "light"
     },
     "output_type": "display_data"
    }
   ],
   "source": [
    "sns.scatterplot(data=df, x=df.X, y=df.Y)"
   ]
  },
  {
   "cell_type": "code",
   "execution_count": 5,
   "metadata": {},
   "outputs": [],
   "source": [
    "result = sm.OLS(df.Y, sm.add_constant(df.X)).fit()"
   ]
  },
  {
   "cell_type": "code",
   "execution_count": 11,
   "metadata": {},
   "outputs": [],
   "source": [
    "result95 = result.get_prediction().summary_frame(alpha=0.05)\n",
    "result50 = result.get_prediction().summary_frame(alpha=0.5)"
   ]
  },
  {
   "cell_type": "code",
   "execution_count": 8,
   "metadata": {},
   "outputs": [],
   "source": [
    "_, u, b = wls_prediction_std(result)\n",
    "_, u50, b50 = wls_prediction_std(result, alpha=0.5)"
   ]
  },
  {
   "cell_type": "code",
   "execution_count": 9,
   "metadata": {},
   "outputs": [
    {
     "data": {
      "text/plain": [
       "(0     224.879501\n",
       " 1     224.879501\n",
       " 2     270.761126\n",
       " 3     407.147097\n",
       " 4     429.686501\n",
       " 5     474.595171\n",
       " 6     541.525050\n",
       " 7     585.851412\n",
       " 8     585.851412\n",
       " 9     651.895261\n",
       " 10    651.895261\n",
       " 11    673.790502\n",
       " 12    760.775250\n",
       " 13    846.816145\n",
       " 14    931.938686\n",
       " 15    931.938686\n",
       " 16    953.080094\n",
       " 17    974.167174\n",
       " 18    995.200679\n",
       " 19    995.200679\n",
       " dtype: float64, 0      587.127904\n",
       " 1      587.127904\n",
       " 2      628.863084\n",
       " 3      755.327530\n",
       " 4      776.596529\n",
       " 5      819.304665\n",
       " 6      883.799995\n",
       " 7      927.090439\n",
       " 8      927.090439\n",
       " 9      992.471798\n",
       " 10     992.471798\n",
       " 11    1014.384960\n",
       " 12    1102.633824\n",
       " 13    1191.826539\n",
       " 14    1281.937610\n",
       " 15    1281.937610\n",
       " 16    1304.604606\n",
       " 17    1327.325928\n",
       " 18    1350.100826\n",
       " 19    1350.100826\n",
       " dtype: float64)"
      ]
     },
     "execution_count": 9,
     "metadata": {},
     "output_type": "execute_result"
    }
   ],
   "source": []
  },
  {
   "cell_type": "code",
   "execution_count": 12,
   "metadata": {},
   "outputs": [
    {
     "data": {
      "text/html": [
       "<div>\n",
       "<style scoped>\n",
       "    .dataframe tbody tr th:only-of-type {\n",
       "        vertical-align: middle;\n",
       "    }\n",
       "\n",
       "    .dataframe tbody tr th {\n",
       "        vertical-align: top;\n",
       "    }\n",
       "\n",
       "    .dataframe thead th {\n",
       "        text-align: right;\n",
       "    }\n",
       "</style>\n",
       "<table border=\"1\" class=\"dataframe\">\n",
       "  <thead>\n",
       "    <tr style=\"text-align: right;\">\n",
       "      <th></th>\n",
       "      <th>mean</th>\n",
       "      <th>mean_se</th>\n",
       "      <th>mean_ci_lower</th>\n",
       "      <th>mean_ci_upper</th>\n",
       "      <th>obs_ci_lower</th>\n",
       "      <th>obs_ci_upper</th>\n",
       "    </tr>\n",
       "  </thead>\n",
       "  <tbody>\n",
       "    <tr>\n",
       "      <th>0</th>\n",
       "      <td>406.003702</td>\n",
       "      <td>34.290264</td>\n",
       "      <td>333.962530</td>\n",
       "      <td>478.044874</td>\n",
       "      <td>224.879501</td>\n",
       "      <td>587.127904</td>\n",
       "    </tr>\n",
       "    <tr>\n",
       "      <th>1</th>\n",
       "      <td>406.003702</td>\n",
       "      <td>34.290264</td>\n",
       "      <td>333.962530</td>\n",
       "      <td>478.044874</td>\n",
       "      <td>224.879501</td>\n",
       "      <td>587.127904</td>\n",
       "    </tr>\n",
       "    <tr>\n",
       "      <th>2</th>\n",
       "      <td>449.812105</td>\n",
       "      <td>31.727682</td>\n",
       "      <td>383.154719</td>\n",
       "      <td>516.469492</td>\n",
       "      <td>270.761126</td>\n",
       "      <td>628.863084</td>\n",
       "    </tr>\n",
       "    <tr>\n",
       "      <th>3</th>\n",
       "      <td>581.237314</td>\n",
       "      <td>24.693109</td>\n",
       "      <td>529.359017</td>\n",
       "      <td>633.115610</td>\n",
       "      <td>407.147097</td>\n",
       "      <td>755.327530</td>\n",
       "    </tr>\n",
       "    <tr>\n",
       "      <th>4</th>\n",
       "      <td>603.141515</td>\n",
       "      <td>23.658703</td>\n",
       "      <td>553.436424</td>\n",
       "      <td>652.846607</td>\n",
       "      <td>429.686501</td>\n",
       "      <td>776.596529</td>\n",
       "    </tr>\n",
       "    <tr>\n",
       "      <th>5</th>\n",
       "      <td>646.949918</td>\n",
       "      <td>21.760805</td>\n",
       "      <td>601.232163</td>\n",
       "      <td>692.667673</td>\n",
       "      <td>474.595171</td>\n",
       "      <td>819.304665</td>\n",
       "    </tr>\n",
       "    <tr>\n",
       "      <th>6</th>\n",
       "      <td>712.662522</td>\n",
       "      <td>19.462864</td>\n",
       "      <td>671.772563</td>\n",
       "      <td>753.552482</td>\n",
       "      <td>541.525050</td>\n",
       "      <td>883.799995</td>\n",
       "    </tr>\n",
       "    <tr>\n",
       "      <th>7</th>\n",
       "      <td>756.470925</td>\n",
       "      <td>18.403765</td>\n",
       "      <td>717.806049</td>\n",
       "      <td>795.135801</td>\n",
       "      <td>585.851412</td>\n",
       "      <td>927.090439</td>\n",
       "    </tr>\n",
       "    <tr>\n",
       "      <th>8</th>\n",
       "      <td>756.470925</td>\n",
       "      <td>18.403765</td>\n",
       "      <td>717.806049</td>\n",
       "      <td>795.135801</td>\n",
       "      <td>585.851412</td>\n",
       "      <td>927.090439</td>\n",
       "    </tr>\n",
       "    <tr>\n",
       "      <th>9</th>\n",
       "      <td>822.183529</td>\n",
       "      <td>17.695047</td>\n",
       "      <td>785.007616</td>\n",
       "      <td>859.359443</td>\n",
       "      <td>651.895261</td>\n",
       "      <td>992.471798</td>\n",
       "    </tr>\n",
       "    <tr>\n",
       "      <th>10</th>\n",
       "      <td>822.183529</td>\n",
       "      <td>17.695047</td>\n",
       "      <td>785.007616</td>\n",
       "      <td>859.359443</td>\n",
       "      <td>651.895261</td>\n",
       "      <td>992.471798</td>\n",
       "    </tr>\n",
       "    <tr>\n",
       "      <th>11</th>\n",
       "      <td>844.087731</td>\n",
       "      <td>17.714574</td>\n",
       "      <td>806.870792</td>\n",
       "      <td>881.304670</td>\n",
       "      <td>673.790502</td>\n",
       "      <td>1014.384960</td>\n",
       "    </tr>\n",
       "    <tr>\n",
       "      <th>12</th>\n",
       "      <td>931.704537</td>\n",
       "      <td>19.043872</td>\n",
       "      <td>891.694846</td>\n",
       "      <td>971.714228</td>\n",
       "      <td>760.775250</td>\n",
       "      <td>1102.633824</td>\n",
       "    </tr>\n",
       "    <tr>\n",
       "      <th>13</th>\n",
       "      <td>1019.321342</td>\n",
       "      <td>22.029240</td>\n",
       "      <td>973.039627</td>\n",
       "      <td>1065.603058</td>\n",
       "      <td>846.816145</td>\n",
       "      <td>1191.826539</td>\n",
       "    </tr>\n",
       "    <tr>\n",
       "      <th>14</th>\n",
       "      <td>1106.938148</td>\n",
       "      <td>26.108641</td>\n",
       "      <td>1052.085929</td>\n",
       "      <td>1161.790367</td>\n",
       "      <td>931.938686</td>\n",
       "      <td>1281.937610</td>\n",
       "    </tr>\n",
       "    <tr>\n",
       "      <th>15</th>\n",
       "      <td>1106.938148</td>\n",
       "      <td>26.108641</td>\n",
       "      <td>1052.085929</td>\n",
       "      <td>1161.790367</td>\n",
       "      <td>931.938686</td>\n",
       "      <td>1281.937610</td>\n",
       "    </tr>\n",
       "    <tr>\n",
       "      <th>16</th>\n",
       "      <td>1128.842350</td>\n",
       "      <td>27.244795</td>\n",
       "      <td>1071.603160</td>\n",
       "      <td>1186.081539</td>\n",
       "      <td>953.080094</td>\n",
       "      <td>1304.604606</td>\n",
       "    </tr>\n",
       "    <tr>\n",
       "      <th>17</th>\n",
       "      <td>1150.746551</td>\n",
       "      <td>28.416655</td>\n",
       "      <td>1091.045375</td>\n",
       "      <td>1210.447727</td>\n",
       "      <td>974.167174</td>\n",
       "      <td>1327.325928</td>\n",
       "    </tr>\n",
       "    <tr>\n",
       "      <th>18</th>\n",
       "      <td>1172.650752</td>\n",
       "      <td>29.619983</td>\n",
       "      <td>1110.421477</td>\n",
       "      <td>1234.880027</td>\n",
       "      <td>995.200679</td>\n",
       "      <td>1350.100826</td>\n",
       "    </tr>\n",
       "    <tr>\n",
       "      <th>19</th>\n",
       "      <td>1172.650752</td>\n",
       "      <td>29.619983</td>\n",
       "      <td>1110.421477</td>\n",
       "      <td>1234.880027</td>\n",
       "      <td>995.200679</td>\n",
       "      <td>1350.100826</td>\n",
       "    </tr>\n",
       "  </tbody>\n",
       "</table>\n",
       "</div>"
      ],
      "text/plain": [
       "           mean    mean_se  mean_ci_lower  mean_ci_upper  obs_ci_lower  \\\n",
       "0    406.003702  34.290264     333.962530     478.044874    224.879501   \n",
       "1    406.003702  34.290264     333.962530     478.044874    224.879501   \n",
       "2    449.812105  31.727682     383.154719     516.469492    270.761126   \n",
       "3    581.237314  24.693109     529.359017     633.115610    407.147097   \n",
       "4    603.141515  23.658703     553.436424     652.846607    429.686501   \n",
       "5    646.949918  21.760805     601.232163     692.667673    474.595171   \n",
       "6    712.662522  19.462864     671.772563     753.552482    541.525050   \n",
       "7    756.470925  18.403765     717.806049     795.135801    585.851412   \n",
       "8    756.470925  18.403765     717.806049     795.135801    585.851412   \n",
       "9    822.183529  17.695047     785.007616     859.359443    651.895261   \n",
       "10   822.183529  17.695047     785.007616     859.359443    651.895261   \n",
       "11   844.087731  17.714574     806.870792     881.304670    673.790502   \n",
       "12   931.704537  19.043872     891.694846     971.714228    760.775250   \n",
       "13  1019.321342  22.029240     973.039627    1065.603058    846.816145   \n",
       "14  1106.938148  26.108641    1052.085929    1161.790367    931.938686   \n",
       "15  1106.938148  26.108641    1052.085929    1161.790367    931.938686   \n",
       "16  1128.842350  27.244795    1071.603160    1186.081539    953.080094   \n",
       "17  1150.746551  28.416655    1091.045375    1210.447727    974.167174   \n",
       "18  1172.650752  29.619983    1110.421477    1234.880027    995.200679   \n",
       "19  1172.650752  29.619983    1110.421477    1234.880027    995.200679   \n",
       "\n",
       "    obs_ci_upper  \n",
       "0     587.127904  \n",
       "1     587.127904  \n",
       "2     628.863084  \n",
       "3     755.327530  \n",
       "4     776.596529  \n",
       "5     819.304665  \n",
       "6     883.799995  \n",
       "7     927.090439  \n",
       "8     927.090439  \n",
       "9     992.471798  \n",
       "10    992.471798  \n",
       "11   1014.384960  \n",
       "12   1102.633824  \n",
       "13   1191.826539  \n",
       "14   1281.937610  \n",
       "15   1281.937610  \n",
       "16   1304.604606  \n",
       "17   1327.325928  \n",
       "18   1350.100826  \n",
       "19   1350.100826  "
      ]
     },
     "execution_count": 12,
     "metadata": {},
     "output_type": "execute_result"
    }
   ],
   "source": [
    "result95"
   ]
  },
  {
   "cell_type": "code",
   "execution_count": 29,
   "metadata": {},
   "outputs": [
    {
     "data": {
      "image/png": "[encoded data removed]",
      "text/plain": [
       "<Figure size 432x288 with 1 Axes>"
      ]
     },
     "metadata": {
      "needs_background": "light"
     },
     "output_type": "display_data"
    },
    {
     "data": {
      "image/png": "[encoded data removed]",
      "text/plain": [
       "<Figure size 432x288 with 1 Axes>"
      ]
     },
     "metadata": {
      "needs_background": "light"
     },
     "output_type": "display_data"
    }
   ],
   "source": [
    "sns.scatterplot(data=df, x=df.X, y=df.Y)\n",
    "plt.plot(df.X, result95.loc[:,\"mean\"], 'r')\n",
    "plt.fill_between(df.X, result95.loc[:,\"mean_ci_upper\"], result95.loc[:,\"mean_ci_lower\"], facecolor='r',alpha=0.2, label=\"95%\")\n",
    "plt.fill_between(df.X, result50.loc[:,\"mean_ci_upper\"], result50.loc[:,\"mean_ci_lower\"], facecolor='r',alpha=0.5, label=\"50%\")\n",
    "plt.legend()\n",
    "plt.savefig(\"../../output/chap4/CI.png\")\n",
    "plt.show()\n",
    "\n",
    "sns.scatterplot(data=df, x=df.X, y=df.Y)\n",
    "plt.plot(df.X, result95.loc[:,\"mean\"], 'r')\n",
    "plt.fill_between(df.X, result95.loc[:,\"obs_ci_upper\"], result95.loc[:,\"obs_ci_lower\"], facecolor='r',alpha=0.2, label=\"95%\")\n",
    "plt.fill_between(df.X, result50.loc[:,\"obs_ci_upper\"], result50.loc[:,\"obs_ci_lower\"], facecolor='r',alpha=0.5, label=\"50%\")\n",
    "plt.legend()\n",
    "plt.savefig(\"../../output/chap4/PI.png\")\n",
    "plt.show()"
   ]
  },
  {
   "cell_type": "code",
   "execution_count": 19,
   "metadata": {},
   "outputs": [
    {
     "data": {
      "text/plain": [
       "0      406.003702\n",
       "1      406.003702\n",
       "2      449.812105\n",
       "3      581.237314\n",
       "4      603.141515\n",
       "5      646.949918\n",
       "6      712.662522\n",
       "7      756.470925\n",
       "8      756.470925\n",
       "9      822.183529\n",
       "10     822.183529\n",
       "11     844.087731\n",
       "12     931.704537\n",
       "13    1019.321342\n",
       "14    1106.938148\n",
       "15    1106.938148\n",
       "16    1128.842350\n",
       "17    1150.746551\n",
       "18    1172.650752\n",
       "19    1172.650752\n",
       "Name: mean, dtype: float64"
      ]
     },
     "execution_count": 19,
     "metadata": {},
     "output_type": "execute_result"
    }
   ],
   "source": [
    "result95.loc[:,\"mean\"]"
   ]
  },
  {
   "cell_type": "code",
   "execution_count": null,
   "metadata": {},
   "outputs": [],
   "source": []
  }
 ],
 "metadata": {
  "kernelspec": {
   "display_name": "Python 3",
   "language": "python",
   "name": "python3"
  },
  "language_info": {
   "codemirror_mode": {
    "name": "ipython",
    "version": 3
   },
   "file_extension": ".py",
   "mimetype": "text/x-python",
   "name": "python",
   "nbconvert_exporter": "python",
   "pygments_lexer": "ipython3",
   "version": "3.6.6"
  }
 },
 "nbformat": 4,
 "nbformat_minor": 2
}
