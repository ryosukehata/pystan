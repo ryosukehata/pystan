{
 "cells": [
  {
   "cell_type": "code",
   "execution_count": null,
   "metadata": {
    "_cell_guid": "b1076dfc-b9ad-4769-8c92-a6c4dae69d19",
    "_uuid": "8f2839f25d086af736a60e9eeb907d3b93b6e0e5"
   },
   "outputs": [],
   "source": [
    "import numpy as np \n",
    "import pandas as pd \n",
    "import pystan\n",
    "import matplotlib.pyplot as plt\n",
    "import seaborn as sns"
   ]
  },
  {
   "cell_type": "code",
   "execution_count": null,
   "metadata": {
    "_cell_guid": "79c7e3d0-c299-4dcb-8224-4455121ee9b0",
    "_uuid": "d629ff2d2480ee46fbb7e2d37f6b5fab8052498a"
   },
   "outputs": [],
   "source": [
    "df = pd.read_csv(\"../../RStanBook/chap04/input/data-salary.txt\"\")"
   ]
  },
  {
   "cell_type": "code",
   "execution_count": null,
   "metadata": {
    "_uuid": "72a41579bea3deeffc5a0fcf13f2bd9cf7d8436e"
   },
   "outputs": [],
   "source": [
    "stanmodel='''\n",
    "data {\n",
    "    int N;\n",
    "    real X[N];\n",
    "    real Y[N];\n",
    "}\n",
    "\n",
    "parameters {\n",
    "    real a;\n",
    "    real b;\n",
    "    real<lower=0> sigma;\n",
    "} \n",
    "\n",
    "model {\n",
    "    for (n in 1:N){\n",
    "    Y[n] ~ normal(a + b*X[n], sigma);\n",
    "    }\n",
    "}\n",
    "'''"
   ]
  },
  {
   "cell_type": "code",
   "execution_count": null,
   "metadata": {
    "_uuid": "af9a6792decc509fef31e7159b9e421a7170565e"
   },
   "outputs": [],
   "source": [
    "stan_input = { 'N':df.X.size, 'X':df.X, 'Y':df.Y}"
   ]
  },
  {
   "cell_type": "code",
   "execution_count": null,
   "metadata": {
    "_uuid": "6d40f177156878de3412bc52b40c8560336001c5"
   },
   "outputs": [],
   "source": [
    "sm = pystan.StanModel(model_code=stanmodel)"
   ]
  },
  {
   "cell_type": "code",
   "execution_count": null,
   "metadata": {
    "_uuid": "76dc6d5147e29680de29ef8bba23e66e21215f75"
   },
   "outputs": [],
   "source": [
    "fit = sm.sampling(data=stan_input , iter=1000, chains=50)"
   ]
  },
  {
   "cell_type": "code",
   "execution_count": null,
   "metadata": {
    "_uuid": "e4b5a90ab18981e3acb9fa9e9edd79c6881e2a31"
   },
   "outputs": [],
   "source": [
    "print(fit.stansummary())"
   ]
  },
  {
   "cell_type": "code",
   "execution_count": null,
   "metadata": {
    "_uuid": "20ac02d476df31e8bb2c8272f44ec68aafd93b01"
   },
   "outputs": [],
   "source": [
    "a_coef = fit.extract(\"a\")[\"a\"]\n",
    "b_coef = fit.extract(\"b\")[\"b\"]\n",
    "sigma_coef = fit.extract(\"sigma\")[\"sigma\"]"
   ]
  },
  {
   "cell_type": "code",
   "execution_count": null,
   "metadata": {
    "_uuid": "dacb2e28ec5527b23e291727daa26f26bd7fd07d"
   },
   "outputs": [],
   "source": [
    "x=np.linspace(df.X.min(),df.X.max()+1)"
   ]
  },
  {
   "cell_type": "code",
   "execution_count": null,
   "metadata": {
    "_uuid": "211782309483347fd51a35db0d020f3eaf0a1a85"
   },
   "outputs": [],
   "source": [
    "df_stan = fit.to_dataframe()"
   ]
  },
  {
   "cell_type": "code",
   "execution_count": null,
   "metadata": {
    "_uuid": "09e0f727ac7dcb52c8d57687da1499544eb90d35"
   },
   "outputs": [],
   "source": [
    "df_stan=df_stan[[\"a\",\"b\",\"sigma\"]]"
   ]
  },
  {
   "cell_type": "code",
   "execution_count": null,
   "metadata": {
    "_uuid": "7b1502f6ef84dc8643f4664b32231c67c00e273d"
   },
   "outputs": [],
   "source": [
    "sns.jointplot(data=df_stan, x=\"a\", y=\"b\")"
   ]
  },
  {
   "cell_type": "code",
   "execution_count": null,
   "metadata": {
    "_uuid": "d3efd4f1e3ec8f38aa7bd0b3209eb927d1d11618"
   },
   "outputs": [],
   "source": [
    "def BayesConfidenceInterval(data, alpha=0.05):\n",
    "    MeanValue = np.mean(data)\n",
    "    alpha = alpha*100\n",
    "    BottomValue, UpperValue = np.percentile(data, [alpha, 100-alpha])\n",
    "    return MeanValue, BottomValue, UpperValue\n",
    "\n",
    "def BayesPredictionInterval(data, sigma, alpha=0.05):\n",
    "    DataSize = data.size\n",
    "    newProbabilityDistribution=np.random.normal(loc=data, scale=sigma, size=DataSize)\n",
    "    MeanValue, BottomValue, UpperValue = BayesConfidenceInterval(newProbabilityDistribution, alpha=alpha)\n",
    "    return MeanValue, BottomValue, UpperValue\n"
   ]
  },
  {
   "cell_type": "code",
   "execution_count": null,
   "metadata": {
    "_uuid": "e24f6ebf09bdaf4d12c1b54de486c58749d3a539"
   },
   "outputs": [],
   "source": [
    "mean_y=[]\n",
    "upper_CI_y=[]\n",
    "bottom_CI_y=[]\n",
    "upper_CI50_y=[]\n",
    "bottom_CI50_y=[]\n",
    "upper_PI_y=[]\n",
    "bottom_PI_y=[]\n",
    "upper_PI50_y=[]\n",
    "bottom_PI50_y=[]\n",
    "for i in x:\n",
    "    df_stan.loc[:,\"CI\"] = df_stan.a + df_stan.b * i\n",
    "    mean, bottomCI, upperCI = BayesConfidenceInterval(df_stan.CI)\n",
    "    mean_y.append(mean)\n",
    "    bottom_CI_y.append(bottomCI)\n",
    "    upper_CI_y.append(upperCI)\n",
    "\n",
    "    mean, bottomCI, upperCI = BayesConfidenceInterval(df_stan.CI, alpha=0.25)\n",
    "    bottom_CI50_y.append(bottomCI)\n",
    "    upper_CI50_y.append(upperCI)\n",
    "    \n",
    "    _, bottomPI, upperPI = BayesPredictionInterval(df_stan.CI, df_stan.sigma)\n",
    "    \n",
    "    bottom_PI_y.append(bottomPI)\n",
    "    upper_PI_y.append(upperPI)\n",
    "    \n",
    "    _, bottomPI, upperPI = BayesPredictionInterval(df_stan.CI, df_stan.sigma, alpha=0.25)\n",
    "    \n",
    "    bottom_PI50_y.append(bottomPI)\n",
    "    upper_PI50_y.append(upperPI)\n",
    "    "
   ]
  },
  {
   "cell_type": "code",
   "execution_count": null,
   "metadata": {
    "_uuid": "a9711172ddc1720897909ccc3e90b6f63161c1a9"
   },
   "outputs": [],
   "source": [
    "sns.scatterplot(data=df, x=\"X\", y=\"Y\")\n",
    "plt.plot(x, mean_y, \"g\")\n",
    "plt.fill_between(x, upper_CI_y, bottom_CI_y, facecolor='r',alpha=0.2, label=\"95%\")\n",
    "plt.fill_between(x, upper_CI50_y, bottom_CI50_y, facecolor='r',alpha=0.4, label=\"50%\")\n",
    "plt.legend(loc=\"best\")\n",
    "plt.savefig(\"BayesConfidenceInterval.png\")\n",
    "\n"
   ]
  },
  {
   "cell_type": "code",
   "execution_count": null,
   "metadata": {
    "_uuid": "46608cd687aee0a086f2d5bb1d2cdfc3e5fd6159"
   },
   "outputs": [],
   "source": [
    "sns.scatterplot(data=df, x=\"X\", y=\"Y\")\n",
    "plt.plot(x, mean_y, \"g\")\n",
    "plt.fill_between(x, upper_PI_y, bottom_PI_y, facecolor='r',alpha=0.2, label=\"95%\")\n",
    "plt.fill_between(x, upper_PI50_y, bottom_PI50_y, facecolor='r',alpha=0.4, label=\"50%\")\n",
    "plt.legend(loc=\"best\")\n",
    "plt.savefig(\"BayesPredictionInterval.png\")"
   ]
  },
  {
   "cell_type": "code",
   "execution_count": null,
   "metadata": {
    "_uuid": "0cabc5e9533d2fc0278703f1538c1e0755b86cb4"
   },
   "outputs": [],
   "source": []
  }
 ],
 "metadata": {
  "kernelspec": {
   "display_name": "Python 3",
   "language": "python",
   "name": "python3"
  },
  "language_info": {
   "codemirror_mode": {
    "name": "ipython",
    "version": 3
   },
   "file_extension": ".py",
   "mimetype": "text/x-python",
   "name": "python",
   "nbconvert_exporter": "python",
   "pygments_lexer": "ipython3",
   "version": "3.6.6"
  }
 },
 "nbformat": 4,
 "nbformat_minor": 1
}
